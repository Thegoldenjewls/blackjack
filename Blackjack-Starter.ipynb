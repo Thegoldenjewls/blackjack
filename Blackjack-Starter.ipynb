{
 "cells": [
  {
   "cell_type": "markdown",
   "metadata": {},
   "source": [
    "## Python Blackjack\n",
    "For this project you will make a Blackjack game using Python. Click <a href=\"http://www.hitorstand.net/strategy.php\">here</a> to familiarize yourself with the the rules of the game. You won't be implementing every rule \"down to the letter\" with the game, but we will doing a simpler version of the game. This assignment will be given to further test your knowledge on object-oriented programming concepts.\n",
    "\n",
    "### Rules:\n",
    "\n",
    "`1. ` The game will have two players: the Dealer and the Player. The game will start off with a deck of 52 cards. The 52 cards will consist of 4 different suits: Clubs, Diamonds, Hearts and Spades. For each suit, there will be cards numbered 1 through 13. <br>\n",
    "**Note: No wildcards will be used in the program**\n",
    "\n",
    "`2. ` When the game begins, the dealer will shuffle the deck of cards, making them randomized. After the dealer shuffles, it will deal the player 2 cards and will deal itself 2 cards from. The Player should be able to see both of their own cards, but should only be able to see one of the Dealer's cards.\n",
    " \n",
    "`3. ` The objective of the game is for the Player to count their cards after they're dealt. If they're not satisfied with the number, they have the ability to 'Hit'. A hit allows the dealer to deal the Player one additional card. The Player can hit as many times as they'd like as long as they don't 'Bust'. A bust is when the Player is dealt cards that total more than 21.\n",
    "\n",
    "`4. ` If the dealer deals the Player cards equal to 21 on the **first** deal, the Player wins. This is referred to as Blackjack. Blackjack is **NOT** the same as getting cards that equal up to 21 after the first deal. Blackjack can only be attained on the first deal.\n",
    "\n",
    "`5. ` The Player will never see the Dealer's hand until the Player chooses to 'stand'. A Stand is when the player tells the dealer to not deal it anymore cards. Once the player chooses to Stand, the Player and the Dealer will compare their hands. Whoever has the higher number wins. Keep in mind that the Dealer can also bust. "
   ]
  },
  {
   "cell_type": "code",
   "execution_count": 1,
   "metadata": {
    "scrolled": true
   },
   "outputs": [],
   "source": [
    "import random"
   ]
  },
  {
   "cell_type": "code",
   "execution_count": 14,
   "metadata": {},
   "outputs": [
    {
     "name": "stdout",
     "output_type": "stream",
     "text": [
      "[(3, 'Diamonds'), (2, 'Diamonds'), (8, 'Diamonds'), ('Jack', 'Clubs'), (3, 'Spades'), (10, 'Hearts'), (5, 'Diamonds'), ('Queen', 'Hearts'), ('Ace', 'Diamonds'), (8, 'Hearts'), (8, 'Clubs'), (6, 'Diamonds'), (9, 'Hearts'), ('King', 'Spades'), (4, 'Clubs'), (4, 'Spades'), ('Queen', 'Clubs'), (10, 'Spades'), (4, 'Hearts'), (6, 'Hearts'), ('Queen', 'Spades'), ('King', 'Hearts'), (10, 'Diamonds'), (2, 'Hearts'), ('Ace', 'Clubs'), (2, 'Clubs'), (3, 'Hearts'), (6, 'Clubs'), (2, 'Spades'), (9, 'Clubs'), ('King', 'Diamonds'), (7, 'Hearts'), (9, 'Spades'), (7, 'Spades'), (5, 'Hearts'), ('Jack', 'Spades'), (10, 'Clubs'), (7, 'Clubs'), (5, 'Spades'), (5, 'Clubs'), (3, 'Clubs'), ('Ace', 'Hearts'), ('Jack', 'Diamonds'), (6, 'Spades'), ('King', 'Clubs'), ('Ace', 'Spades'), (9, 'Diamonds'), (4, 'Diamonds'), (8, 'Spades'), ('Queen', 'Diamonds'), ('Jack', 'Hearts'), (7, 'Diamonds')]\n"
     ]
    }
   ],
   "source": [
    "# Rule #2 Game Play\n",
    "class Gameplay:\n",
    "   \n",
    "    def __init__(self,player,deck):\n",
    "        self.player\n",
    "        self.deck = deck\n",
    "        self.hand []\n",
    "        self.score = 0\n",
    "        \n",
    "    def deal_cards(self)\n",
    "        self.hand.extend(self.deck.deal_cards())\n",
    "        \n",
    "   \n",
    "\n",
    "\n",
    "\n",
    "        \n",
    "        Dealer gets 2 random cards: show 1\n",
    "        player gets 2 random cards: show both\n",
    "        dealerhand= []\n",
    "        playerhand= []\n",
    "            \n",
    "    \n",
    "    blackjack = 21\n",
    "#     while hand < 21\n",
    "#             if player hand = 21 black jack\n",
    "#             else player hit or stay\n",
    "#             if hit, player +1 card\n",
    "#             else dealer hits if value of hand is < 12 \n",
    "#             if dealer hand is between <= 17 +1\n",
    "#             else show cards\n",
    "#         winner highest hand goes to\n",
    "            \n",
    "game = Gameplay(\"dealer\",\"player\")\n",
    "print(game.shuffle())\n",
    "    "
   ]
  },
  {
   "cell_type": "code",
   "execution_count": 4,
   "metadata": {},
   "outputs": [],
   "source": [
    "class Card\n",
    "    def __innit__(self,suit,number,deck)\n",
    "        self.suit = suit\n",
    "        self.number = number\n",
    "        self.cards = []\n",
    "    \n",
    "    def __repr__(self)\n",
    "        return f\"{self.suit} of {self.number}   \n",
    "    \n",
    "    def whole_deck(self)\n",
    "        suits = [\"Clubs\",\"Diamonds\",\"Hearts\",\"Spades\"]\n",
    "        numbers = [1,2,3,4,5,6,7,8,9,10,11,12,13]\n",
    "        deck [(suit,name) for suit in suits for name in names ]\n",
    "        random.shuffle(deck)\n",
    "        return deck\n",
    "    \n",
    "    def draw_card(self,iteration)\n",
    "        cards = []\n",
    "        for i in range(iteration):\n",
    "        card = random.choice(self.cards)\n",
    "        self.cards.remove(cards)\n",
    "        cards.append(card)\n",
    "        return cards\n",
    "   \n",
    "    \n",
    "    \n",
    "    \n",
    "        "
   ]
  },
  {
   "cell_type": "code",
   "execution_count": 9,
   "metadata": {},
   "outputs": [
    {
     "ename": "NameError",
     "evalue": "name 'Gameplay' is not defined",
     "output_type": "error",
     "traceback": [
      "\u001b[1;31m---------------------------------------------------------------------------\u001b[0m",
      "\u001b[1;31mNameError\u001b[0m                                 Traceback (most recent call last)",
      "\u001b[1;32m~\\AppData\\Local\\Temp/ipykernel_2832/3164294945.py\u001b[0m in \u001b[0;36m<module>\u001b[1;34m\u001b[0m\n\u001b[1;32m----> 1\u001b[1;33m \u001b[0mgame\u001b[0m \u001b[1;33m=\u001b[0m \u001b[0mGameplay\u001b[0m\u001b[1;33m(\u001b[0m\u001b[1;33m)\u001b[0m\u001b[1;33m\u001b[0m\u001b[1;33m\u001b[0m\u001b[0m\n\u001b[0m\u001b[0;32m      2\u001b[0m \u001b[0mprint\u001b[0m\u001b[1;33m(\u001b[0m\u001b[0mgame\u001b[0m\u001b[1;33m.\u001b[0m\u001b[0mshuffle\u001b[0m\u001b[1;33m(\u001b[0m\u001b[1;33m)\u001b[0m\u001b[1;33m)\u001b[0m\u001b[1;33m\u001b[0m\u001b[1;33m\u001b[0m\u001b[0m\n",
      "\u001b[1;31mNameError\u001b[0m: name 'Gameplay' is not defined"
     ]
    }
   ],
   "source": [
    "game = Gameplay()\n",
    "print(game.shuffle())"
   ]
  },
  {
   "cell_type": "code",
   "execution_count": null,
   "metadata": {
    "scrolled": true
   },
   "outputs": [],
   "source": [
    "class Player:\n",
    "\n",
    "    def __init__(self,player,deck):\n",
    "        self.player\n",
    "        self.deck = deck\n",
    "        self.hand []\n",
    "        self.score = 0\n",
    "    \n",
    "    def hit(self)\n",
    "        self.hand.extend(self.deck.draw_card(1))\n",
    "        if self.score > 21\n",
    "            return 1\n",
    "        else:\n",
    "        return 0\n",
    "        \n",
    "    "
   ]
  },
  {
   "cell_type": "code",
   "execution_count": null,
   "metadata": {
    "scrolled": true
   },
   "outputs": [],
   "source": []
  }
 ],
 "metadata": {
  "kernelspec": {
   "display_name": "Python 3 (ipykernel)",
   "language": "python",
   "name": "python3"
  },
  "language_info": {
   "codemirror_mode": {
    "name": "ipython",
    "version": 3
   },
   "file_extension": ".py",
   "mimetype": "text/x-python",
   "name": "python",
   "nbconvert_exporter": "python",
   "pygments_lexer": "ipython3",
   "version": "3.9.7"
  }
 },
 "nbformat": 4,
 "nbformat_minor": 2
}
